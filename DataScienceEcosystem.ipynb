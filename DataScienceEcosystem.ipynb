{
 "cells": [
  {
   "cell_type": "markdown",
   "id": "88ffc204-9c0d-4b5e-b42f-8597eeac48b4",
   "metadata": {},
   "source": [
    "# Data Science Tools and Ecosystem"
   ]
  },
  {
   "cell_type": "markdown",
   "id": "3b0f01fd-559b-4743-a4f1-fe0751df319f",
   "metadata": {},
   "source": [
    "## In this notebook, Data Science Tools and Ecosystem are summarized.\n",
    "\n"
   ]
  },
  {
   "cell_type": "markdown",
   "id": "45a16583-2c80-4a28-beb7-3ef5b96a1aa3",
   "metadata": {},
   "source": [
    "### Some of the popular languages that Data Scientists use are:\n",
    "1. Python \n",
    "2. Julia\n",
    "3. R"
   ]
  },
  {
   "cell_type": "markdown",
   "id": "4809fa47-2de6-4023-b9ae-3ce6c5f63c25",
   "metadata": {},
   "source": [
    "### Some of the commonly used libraries used by Data Scientists include:\n",
    "1. Numpy\n",
    "2. Pandas\n",
    "3. Matplotlib\n",
    "4. Scikit-Learn"
   ]
  },
  {
   "cell_type": "markdown",
   "id": "36c5383b-86df-45b4-96e3-105448fe662e",
   "metadata": {},
   "source": [
    "|Data Science Tools|\n",
    "|------------------|\n",
    "|Python|\n",
    "|R|\n",
    "|VScode|\n",
    " |Julia|"
   ]
  },
  {
   "cell_type": "markdown",
   "id": "eb62a884-708f-400b-a3e9-fc50a315c7cd",
   "metadata": {},
   "source": [
    "### Below are a few examples of evaluating arithmetic expressions in Python.\n",
    "\n"
   ]
  },
  {
   "cell_type": "code",
   "execution_count": 2,
   "id": "ec2cee5f-c176-4358-8398-601bdc6407a6",
   "metadata": {},
   "outputs": [
    {
     "name": "stdout",
     "output_type": "stream",
     "text": [
      "3.3333333333333335\n"
     ]
    }
   ],
   "source": [
    "# This will convert 200 minutes to hours by diving by 60.\n",
    "min = 200\n",
    "hours = min/60\n",
    "print(hours)"
   ]
  },
  {
   "cell_type": "markdown",
   "id": "2a3127de-9d08-44df-aaeb-197632700243",
   "metadata": {},
   "source": [
    "#### Objectives:"
   ]
  },
  {
   "cell_type": "markdown",
   "id": "3cb11c98-b059-4a3e-b9cf-3cf97deaed21",
   "metadata": {},
   "source": [
    "- List popular languages for Data Science\n",
    "- List use of APIs, Data Sets and Models\n",
    "- Intro to use of Python, R and Git "
   ]
  },
  {
   "cell_type": "markdown",
   "id": "dd6885f1-0552-4db8-a5ca-063c074e90d4",
   "metadata": {},
   "source": [
    "### Author :\n",
    "#### Ahmad Ibrahim Ahmar"
   ]
  },
  {
   "cell_type": "code",
   "execution_count": null,
   "id": "dd9ee496-2283-4cab-904d-fef3366f8fe1",
   "metadata": {},
   "outputs": [],
   "source": []
  }
 ],
 "metadata": {
  "kernelspec": {
   "display_name": "Python 3 (ipykernel)",
   "language": "python",
   "name": "python3"
  },
  "language_info": {
   "codemirror_mode": {
    "name": "ipython",
    "version": 3
   },
   "file_extension": ".py",
   "mimetype": "text/x-python",
   "name": "python",
   "nbconvert_exporter": "python",
   "pygments_lexer": "ipython3",
   "version": "3.11.7"
  }
 },
 "nbformat": 4,
 "nbformat_minor": 5
}
